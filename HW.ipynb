{
 "cells": [
  {
   "cell_type": "markdown",
   "id": "f67eff85",
   "metadata": {},
   "source": [
    "假設從 2010.01.01 開始，你每個月持續有 USD$1000 資金，\n",
    "\n",
    "(1) 你都不管它，只放在銀行，到了 2020.01.01 你的財產=?\n",
    "\n",
    "(2) 你固定選擇 Apple (AAPL) 公司作為買股票的對象，到了 2020.01.01 你的財產 =?"
   ]
  },
  {
   "cell_type": "code",
   "execution_count": 1,
   "id": "1b928834",
   "metadata": {},
   "outputs": [],
   "source": [
    "#(1)\n",
    "def Money(input_money,annual_rate, year):\n",
    "    month=int(year*12)\n",
    "    \n",
    "    month_rate=annual_rate/12\n",
    "    total=input_money*(1+month_rate)*((1+month_rate)**month-1)/month_rate\n",
    "    return total"
   ]
  },
  {
   "cell_type": "code",
   "execution_count": 2,
   "id": "eab405e8",
   "metadata": {},
   "outputs": [
    {
     "name": "stdout",
     "output_type": "stream",
     "text": [
      "USD 124970.54804900131\n"
     ]
    }
   ],
   "source": [
    "a=Money(1000, 0.008, 10) #a代表從2010.01.01到2019.01.01存的錢加利息，還沒加2020.01.01存的1000元\n",
    "print(\"USD\",a)"
   ]
  },
  {
   "cell_type": "code",
   "execution_count": 3,
   "id": "5a480ae9",
   "metadata": {},
   "outputs": [
    {
     "name": "stdout",
     "output_type": "stream",
     "text": [
      "本利和:USD 125970.54804900131\n"
     ]
    }
   ],
   "source": [
    "sum=a+1000\n",
    "print(\"本利和:USD\",sum)"
   ]
  },
  {
   "cell_type": "code",
   "execution_count": 4,
   "id": "2cc9372e",
   "metadata": {},
   "outputs": [],
   "source": [
    "# Get thinkdsp.py\n",
    "\n",
    "import os\n",
    "\n",
    "if not os.path.exists('thinkdsp.py'):\n",
    "    !wget C:\\Users\\RITA\\Documents\\訊號\\thinkdsp.py"
   ]
  },
  {
   "cell_type": "code",
   "execution_count": 5,
   "id": "294a8319",
   "metadata": {},
   "outputs": [],
   "source": [
    "from thinkdsp import decorate"
   ]
  },
  {
   "cell_type": "code",
   "execution_count": 6,
   "id": "c1da424a",
   "metadata": {},
   "outputs": [],
   "source": [
    "if not os.path.exists('AAPL.csv'):\n",
    "    !wget C:\\Users\\RITA\\Documents\\訊號\\AAPL.csv"
   ]
  },
  {
   "cell_type": "code",
   "execution_count": 7,
   "id": "f55a3bbc",
   "metadata": {},
   "outputs": [
    {
     "data": {
      "text/html": [
       "<div>\n",
       "<style scoped>\n",
       "    .dataframe tbody tr th:only-of-type {\n",
       "        vertical-align: middle;\n",
       "    }\n",
       "\n",
       "    .dataframe tbody tr th {\n",
       "        vertical-align: top;\n",
       "    }\n",
       "\n",
       "    .dataframe thead th {\n",
       "        text-align: right;\n",
       "    }\n",
       "</style>\n",
       "<table border=\"1\" class=\"dataframe\">\n",
       "  <thead>\n",
       "    <tr style=\"text-align: right;\">\n",
       "      <th></th>\n",
       "      <th>Date</th>\n",
       "      <th>Open</th>\n",
       "      <th>High</th>\n",
       "      <th>Low</th>\n",
       "      <th>Close</th>\n",
       "      <th>Adj Close</th>\n",
       "      <th>Volume</th>\n",
       "    </tr>\n",
       "  </thead>\n",
       "  <tbody>\n",
       "    <tr>\n",
       "      <th>0</th>\n",
       "      <td>2010-01-01</td>\n",
       "      <td>7.622500</td>\n",
       "      <td>7.699643</td>\n",
       "      <td>6.794643</td>\n",
       "      <td>6.859286</td>\n",
       "      <td>5.898319</td>\n",
       "      <td>15168994400</td>\n",
       "    </tr>\n",
       "    <tr>\n",
       "      <th>1</th>\n",
       "      <td>2010-02-01</td>\n",
       "      <td>6.870357</td>\n",
       "      <td>7.327500</td>\n",
       "      <td>6.816071</td>\n",
       "      <td>7.307857</td>\n",
       "      <td>6.284047</td>\n",
       "      <td>10776080000</td>\n",
       "    </tr>\n",
       "    <tr>\n",
       "      <th>2</th>\n",
       "      <td>2010-03-01</td>\n",
       "      <td>7.348214</td>\n",
       "      <td>8.481429</td>\n",
       "      <td>7.337500</td>\n",
       "      <td>8.392857</td>\n",
       "      <td>7.217041</td>\n",
       "      <td>12154172800</td>\n",
       "    </tr>\n",
       "    <tr>\n",
       "      <th>3</th>\n",
       "      <td>2010-04-01</td>\n",
       "      <td>8.478929</td>\n",
       "      <td>9.730714</td>\n",
       "      <td>8.312500</td>\n",
       "      <td>9.324643</td>\n",
       "      <td>8.018287</td>\n",
       "      <td>12367129600</td>\n",
       "    </tr>\n",
       "    <tr>\n",
       "      <th>4</th>\n",
       "      <td>2010-05-01</td>\n",
       "      <td>9.422857</td>\n",
       "      <td>9.567143</td>\n",
       "      <td>7.116071</td>\n",
       "      <td>9.174286</td>\n",
       "      <td>7.888996</td>\n",
       "      <td>18082654800</td>\n",
       "    </tr>\n",
       "    <tr>\n",
       "      <th>...</th>\n",
       "      <td>...</td>\n",
       "      <td>...</td>\n",
       "      <td>...</td>\n",
       "      <td>...</td>\n",
       "      <td>...</td>\n",
       "      <td>...</td>\n",
       "      <td>...</td>\n",
       "    </tr>\n",
       "    <tr>\n",
       "      <th>115</th>\n",
       "      <td>2019-08-01</td>\n",
       "      <td>53.474998</td>\n",
       "      <td>54.507500</td>\n",
       "      <td>48.145000</td>\n",
       "      <td>52.185001</td>\n",
       "      <td>51.224396</td>\n",
       "      <td>2724326400</td>\n",
       "    </tr>\n",
       "    <tr>\n",
       "      <th>116</th>\n",
       "      <td>2019-09-01</td>\n",
       "      <td>51.607498</td>\n",
       "      <td>56.605000</td>\n",
       "      <td>51.055000</td>\n",
       "      <td>55.992500</td>\n",
       "      <td>55.170628</td>\n",
       "      <td>2170268400</td>\n",
       "    </tr>\n",
       "    <tr>\n",
       "      <th>117</th>\n",
       "      <td>2019-10-01</td>\n",
       "      <td>56.267502</td>\n",
       "      <td>62.437500</td>\n",
       "      <td>53.782501</td>\n",
       "      <td>62.189999</td>\n",
       "      <td>61.277161</td>\n",
       "      <td>2433210800</td>\n",
       "    </tr>\n",
       "    <tr>\n",
       "      <th>118</th>\n",
       "      <td>2019-11-01</td>\n",
       "      <td>62.384998</td>\n",
       "      <td>67.000000</td>\n",
       "      <td>62.290001</td>\n",
       "      <td>66.812500</td>\n",
       "      <td>65.831795</td>\n",
       "      <td>1793326000</td>\n",
       "    </tr>\n",
       "    <tr>\n",
       "      <th>119</th>\n",
       "      <td>2019-12-01</td>\n",
       "      <td>66.817497</td>\n",
       "      <td>73.492500</td>\n",
       "      <td>64.072502</td>\n",
       "      <td>73.412498</td>\n",
       "      <td>72.552094</td>\n",
       "      <td>2388794800</td>\n",
       "    </tr>\n",
       "  </tbody>\n",
       "</table>\n",
       "<p>120 rows × 7 columns</p>\n",
       "</div>"
      ],
      "text/plain": [
       "          Date       Open       High        Low      Close  Adj Close  \\\n",
       "0   2010-01-01   7.622500   7.699643   6.794643   6.859286   5.898319   \n",
       "1   2010-02-01   6.870357   7.327500   6.816071   7.307857   6.284047   \n",
       "2   2010-03-01   7.348214   8.481429   7.337500   8.392857   7.217041   \n",
       "3   2010-04-01   8.478929   9.730714   8.312500   9.324643   8.018287   \n",
       "4   2010-05-01   9.422857   9.567143   7.116071   9.174286   7.888996   \n",
       "..         ...        ...        ...        ...        ...        ...   \n",
       "115 2019-08-01  53.474998  54.507500  48.145000  52.185001  51.224396   \n",
       "116 2019-09-01  51.607498  56.605000  51.055000  55.992500  55.170628   \n",
       "117 2019-10-01  56.267502  62.437500  53.782501  62.189999  61.277161   \n",
       "118 2019-11-01  62.384998  67.000000  62.290001  66.812500  65.831795   \n",
       "119 2019-12-01  66.817497  73.492500  64.072502  73.412498  72.552094   \n",
       "\n",
       "          Volume  \n",
       "0    15168994400  \n",
       "1    10776080000  \n",
       "2    12154172800  \n",
       "3    12367129600  \n",
       "4    18082654800  \n",
       "..           ...  \n",
       "115   2724326400  \n",
       "116   2170268400  \n",
       "117   2433210800  \n",
       "118   1793326000  \n",
       "119   2388794800  \n",
       "\n",
       "[120 rows x 7 columns]"
      ]
     },
     "execution_count": 7,
     "metadata": {},
     "output_type": "execute_result"
    }
   ],
   "source": [
    "import pandas as pd\n",
    "\n",
    "df = pd.read_csv('AAPL.csv', \n",
    "                 parse_dates=[0])\n",
    "df"
   ]
  },
  {
   "cell_type": "code",
   "execution_count": 8,
   "id": "1ce8331a",
   "metadata": {},
   "outputs": [],
   "source": [
    "ys = df['Close']\n",
    "ts = df.index"
   ]
  },
  {
   "cell_type": "code",
   "execution_count": 9,
   "id": "81323365",
   "metadata": {},
   "outputs": [
    {
     "data": {
      "image/png": "[encoded data removed]",
      "text/plain": [
       "<Figure size 432x288 with 1 Axes>"
      ]
     },
     "metadata": {
      "needs_background": "light"
     },
     "output_type": "display_data"
    }
   ],
   "source": [
    "from thinkdsp import Wave\n",
    "\n",
    "wave = Wave(ys, ts, framerate=1)\n",
    "wave.plot()\n",
    "decorate(xlabel='Time (months)')"
   ]
  },
  {
   "cell_type": "code",
   "execution_count": 10,
   "id": "8ff398c1",
   "metadata": {},
   "outputs": [],
   "source": [
    "#(2)\n",
    "def Money2(input_money2,annual_rate2,month2):\n",
    "    month_rate2=annual_rate2/12\n",
    "    total2=input_money2*(1+month_rate2)*((1+month_rate2)**month2-1)/month_rate2\n",
    "    return total2"
   ]
  },
  {
   "cell_type": "code",
   "execution_count": 11,
   "id": "bd0ff3ee",
   "metadata": {},
   "outputs": [
    {
     "name": "stdout",
     "output_type": "stream",
     "text": [
      "USD 9.081049999999045\n"
     ]
    }
   ],
   "source": [
    "#2010.01.01 Open=7.6225\n",
    "#2020.01.01 Close=73.412498\n",
    "#假設2010.01.01把要存入銀行的1000拿約一半投資股票，買130股\n",
    "#因為2010.01.01 Open=7.6225，所以剩下的錢=1000-7.6225*130\n",
    "start_input_money = 1000 - 7.6225*130\n",
    "first_month_value_money = Money2(start_input_money,0.008,1) #start_input_money存入銀行後一個月的利息加start_input_money的錢\n",
    "print(\"USD\",first_month_value_money)"
   ]
  },
  {
   "cell_type": "code",
   "execution_count": 12,
   "id": "178442a4",
   "metadata": {},
   "outputs": [
    {
     "name": "stdout",
     "output_type": "stream",
     "text": [
      "USD 123897.12042305213\n"
     ]
    }
   ],
   "source": [
    "#value是2010.02.01開始每個月存1000到銀行\n",
    "\n",
    "value = Money2(first_month_value_money+1000, 0.008, 1) #value代表2010.03.01當時有的錢，還沒加2010.03.01要存入的1000元\n",
    "for i in range(118):\n",
    "    value = Money2(value+1000, 0.008, 1)\n",
    "print(\"USD\",value)"
   ]
  },
  {
   "cell_type": "code",
   "execution_count": 13,
   "id": "270d6dfb",
   "metadata": {},
   "outputs": [
    {
     "name": "stdout",
     "output_type": "stream",
     "text": [
      "USD 134440.7451630521\n"
     ]
    }
   ],
   "source": [
    "#加股票的錢\n",
    "b=value+1000\n",
    "stock=b+73.412498*130\n",
    "print(\"USD\",stock)"
   ]
  }
 ],
 "metadata": {
  "kernelspec": {
   "display_name": "Python 3",
   "language": "python",
   "name": "python3"
  },
  "language_info": {
   "codemirror_mode": {
    "name": "ipython",
    "version": 3
   },
   "file_extension": ".py",
   "mimetype": "text/x-python",
   "name": "python",
   "nbconvert_exporter": "python",
   "pygments_lexer": "ipython3",
   "version": "3.8.8"
  }
 },
 "nbformat": 4,
 "nbformat_minor": 5
}
